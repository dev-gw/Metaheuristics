{
  "nbformat": 4,
  "nbformat_minor": 0,
  "metadata": {
    "colab": {
      "name": "assembly.ipynb",
      "provenance": [],
      "collapsed_sections": [],
      "authorship_tag": "ABX9TyPJs6i2iAskfTZ3Yc9oqyfS"
    },
    "kernelspec": {
      "name": "python3",
      "display_name": "Python 3"
    },
    "language_info": {
      "name": "python"
    }
  },
  "cells": [
    {
      "cell_type": "markdown",
      "metadata": {
        "id": "DmKGqOq_sP1a"
      },
      "source": [
        "*   **Code** : Assembly transition matrix\n",
        "*   **Date** : 2021/06/20(v 2.1)\n",
        "*   **Note** : 물건의 조립가능 상태를 표시하는 알고리즘\n"
      ]
    },
    {
      "cell_type": "code",
      "metadata": {
        "colab": {
          "base_uri": "https://localhost:8080/"
        },
        "id": "dzgWzCZXQJca",
        "outputId": "0bc1ee97-7492-41c0-d594-bad424f579c7"
      },
      "source": [
        "import numpy as np\n",
        "import pandas as pd\n",
        "\n",
        "# 초기값 입력\n",
        "level_1 = list(input(\"first level: \").split())\n",
        "mylist = [list(map(int, input().split())) for _ in range(len(level_1))]\n",
        "input_matrix = np.triu(mylist) \n",
        "\n",
        "df = pd.DataFrame(data=input_matrix, columns=level_1, index=level_1)\n",
        "print(df)"
      ],
      "execution_count": null,
      "outputs": [
        {
          "output_type": "stream",
          "text": [
            "first level: A B C D\n",
            "0 1 1 0\n",
            "1 0 1 0\n",
            "1 1 0 1\n",
            "0 0 1 0\n",
            "   A  B  C  D\n",
            "A  0  1  1  0\n",
            "B  0  0  1  0\n",
            "C  0  0  0  1\n",
            "D  0  0  0  0\n"
          ],
          "name": "stdout"
        }
      ]
    },
    {
      "cell_type": "code",
      "metadata": {
        "id": "IqhS4hCv_GyF"
      },
      "source": [
        "# 두 리스트를 비교하여 없는 값만 반환하는 함수\n",
        "def compare(list1, list2):\n",
        "    s = set(list2)\n",
        "    list3 = [x for x in list1 if x not in s]\n",
        "    return list3"
      ],
      "execution_count": null,
      "outputs": []
    },
    {
      "cell_type": "code",
      "metadata": {
        "id": "X7X46RjnUBiX",
        "colab": {
          "base_uri": "https://localhost:8080/"
        },
        "outputId": "fb4e8dcb-7245-4d78-ccea-a1e85308ca03"
      },
      "source": [
        "# 레벨 생성\n",
        "total_level = [level_1]\n",
        "\n",
        "for iter in range(len(level_1)-1):\n",
        "    sub_level = []\n",
        "    for i in total_level[iter]:\n",
        "        extract = i.split()\n",
        "        compare_list = compare(level_1, extract)\n",
        "        for j in extract:\n",
        "            for k in compare_list:\n",
        "                if df.loc[j,k] != 1:\n",
        "                    continue\n",
        "                if (i + \" \" + k) not in sub_level : # 순서도 똑같은 중복 제거\n",
        "                    sub_level.append(i + \" \" + k)\n",
        "    total_level.append(sub_level)                   \n",
        "print(total_level)"
      ],
      "execution_count": null,
      "outputs": [
        {
          "output_type": "stream",
          "text": [
            "[['A', 'B', 'C', 'D'], ['A B', 'A C', 'B C', 'C D'], ['A B C', 'A C B', 'A C D', 'B C D'], ['A B C D', 'A C B D', 'A C D B']]\n"
          ],
          "name": "stdout"
        }
      ]
    },
    {
      "cell_type": "code",
      "metadata": {
        "colab": {
          "base_uri": "https://localhost:8080/"
        },
        "id": "uNtkfiXymNec",
        "outputId": "a046f857-e5ca-4598-a4ce-04df72d843d6"
      },
      "source": [
        "# 레벨 중복 제거\n",
        "sub_level_filtered = []\n",
        "for p in range(len(total_level)):\n",
        "    for k in range(len(total_level[p])):\n",
        "        if sorted((total_level[p][k].split())) not in sub_level_filtered:\n",
        "            sub_level_filtered.append(sorted(total_level[p][k].split()))\n",
        "print(sub_level_filtered)"
      ],
      "execution_count": null,
      "outputs": [
        {
          "output_type": "stream",
          "text": [
            "[['A'], ['B'], ['C'], ['D'], ['A', 'B'], ['A', 'C'], ['B', 'C'], ['C', 'D'], ['A', 'B', 'C'], ['A', 'C', 'D'], ['B', 'C', 'D'], ['A', 'B', 'C', 'D']]\n"
          ],
          "name": "stdout"
        }
      ]
    },
    {
      "cell_type": "code",
      "metadata": {
        "colab": {
          "base_uri": "https://localhost:8080/"
        },
        "id": "L4RXxUQji8Zx",
        "outputId": "1703db84-aedb-44da-ee11-9b6b535c876c"
      },
      "source": [
        "# 레벨을 토대로 노드 생성\n",
        "arc = []\n",
        "for l in range(len(sub_level_filtered)):\n",
        "    extra = compare(level_1, sub_level_filtered[l])\n",
        "    convert = \"\".join(sub_level_filtered[l])\n",
        "    for m in range(len(extra)):\n",
        "        convert = convert + \"/\" + extra[m]\n",
        "    arc.append(convert)\n",
        "print(arc)"
      ],
      "execution_count": null,
      "outputs": [
        {
          "output_type": "stream",
          "text": [
            "['A/B/C/D', 'B/A/C/D', 'C/A/B/D', 'D/A/B/C', 'AB/C/D', 'AC/B/D', 'BC/A/D', 'CD/A/B', 'ABC/D', 'ACD/B', 'BCD/A', 'ABCD']\n"
          ],
          "name": "stdout"
        }
      ]
    },
    {
      "cell_type": "code",
      "metadata": {
        "id": "m7NY_lPnby7k",
        "colab": {
          "base_uri": "https://localhost:8080/"
        },
        "outputId": "178babd4-259c-4a5f-fd74-c934271e6f6d"
      },
      "source": [
        "# 노드 중복 제거\n",
        "arc_filtered = []\n",
        "for n in arc:\n",
        "    if sorted(n.split(\"/\")) not in arc_filtered:\n",
        "        arc_filtered.append(n.split(\"/\"))\n",
        "print(arc_filtered)"
      ],
      "execution_count": null,
      "outputs": [
        {
          "output_type": "stream",
          "text": [
            "[['A', 'B', 'C', 'D'], ['AB', 'C', 'D'], ['AC', 'B', 'D'], ['BC', 'A', 'D'], ['CD', 'A', 'B'], ['ABC', 'D'], ['ACD', 'B'], ['BCD', 'A'], ['ABCD']]\n"
          ],
          "name": "stdout"
        }
      ]
    },
    {
      "cell_type": "code",
      "metadata": {
        "colab": {
          "base_uri": "https://localhost:8080/"
        },
        "id": "54t9aK7ZvKBc",
        "outputId": "a19ea535-04db-4c02-c578-61d47eae291b"
      },
      "source": [
        "# 결과행렬 표현하기\n",
        "assembly_transiton_matrix = pd.DataFrame(columns=arc_filtered_2, index=arc_filtered_2)\n",
        "for m in range(len(level_1)):\n",
        "    assembly_transiton_matrix.iloc[0][m+1] = 1\n",
        "\n",
        "for t in range(1,len(arc_filtered)-1):\n",
        "    matr = set(arc_filtered[t][0])\n",
        "    for u in range(t+1, len(arc_filtered)):\n",
        "        comp = set(arc_filtered[u][0])\n",
        "        if (len(matr) + 1 == len(comp)) and (len(matr & comp) == len(matr)):\n",
        "            assembly_transiton_matrix.iloc[t][u] = 1\n",
        "print(assembly_transiton_matrix.fillna(0))"
      ],
      "execution_count": null,
      "outputs": [
        {
          "output_type": "stream",
          "text": [
            "         A/B/C/D  AB/C/D  AC/B/D  BC/A/D  CD/A/B  ABC/D  ACD/B  BCD/A  ABCD\n",
            "A/B/C/D        0       1       1       1       1      0      0      0     0\n",
            "AB/C/D         0       0       0       0       0      1      0      0     0\n",
            "AC/B/D         0       0       0       0       0      1      1      0     0\n",
            "BC/A/D         0       0       0       0       0      1      0      1     0\n",
            "CD/A/B         0       0       0       0       0      0      1      1     0\n",
            "ABC/D          0       0       0       0       0      0      0      0     1\n",
            "ACD/B          0       0       0       0       0      0      0      0     1\n",
            "BCD/A          0       0       0       0       0      0      0      0     1\n",
            "ABCD           0       0       0       0       0      0      0      0     0\n"
          ],
          "name": "stdout"
        }
      ]
    }
  ]
}